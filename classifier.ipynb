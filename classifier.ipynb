{
 "nbformat": 4,
 "nbformat_minor": 2,
 "metadata": {
  "language_info": {
   "name": "python",
   "codemirror_mode": {
    "name": "ipython",
    "version": 3
   },
   "version": "3.6.6-final"
  },
  "orig_nbformat": 2,
  "file_extension": ".py",
  "mimetype": "text/x-python",
  "name": "python",
  "npconvert_exporter": "python",
  "pygments_lexer": "ipython3",
  "version": 3,
  "kernelspec": {
   "name": "python36664bit0dae64bc2c7f4db3a79eae90e3d548d6",
   "display_name": "Python 3.6.6 64-bit"
  }
 },
 "cells": [
  {
   "cell_type": "code",
   "execution_count": 24,
   "metadata": {},
   "outputs": [],
   "source": [
    "import pandas as pd\n",
    "df=pd.read_csv('kc_house_data.csv')\n",
    "df_=df.dropna(axis=1,how='any')\n",
    "\n"
   ]
  },
  {
   "cell_type": "code",
   "execution_count": 25,
   "metadata": {},
   "outputs": [],
   "source": [
    "from sklearn.model_selection import train_test_split\n",
    "from sklearn.preprocessing import StandardScaler\n",
    "obj=StandardScaler()\n",
    "x=df_.iloc[:,3:15]\n",
    "x_=obj.fit_transform(x)\n",
    "y=df['price'].values\n",
    "X_train, X_test, y_train, y_test = train_test_split(x_, y, test_size=0.2,random_state=42)"
   ]
  },
  {
   "cell_type": "code",
   "execution_count": 26,
   "metadata": {},
   "outputs": [],
   "source": [
    "from sklearn.neural_network import MLPClassifier \n",
    "mlp=MLPClassifier(hidden_layer_sizes=(10,),activation='relu',solver='adam',learning_rate='adaptive',verbose=True,max_iter=10)"
   ]
  },
  {
   "cell_type": "code",
   "execution_count": 27,
   "metadata": {},
   "outputs": [
    {
     "name": "stdout",
     "output_type": "stream",
     "text": "Iteration 1, loss = 8.04290829\nIteration 2, loss = 7.57272231\nIteration 3, loss = 7.10034812\nIteration 4, loss = 6.82779125\nIteration 5, loss = 6.69962126\nIteration 6, loss = 6.62035422\nIteration 7, loss = 6.56039667\nIteration 8, loss = 6.50934067\nIteration 9, loss = 6.46492706\nIteration 10, loss = 6.42472716\nC:\\Users\\Kartik\\AppData\\Local\\Programs\\Python\\Python36\\lib\\site-packages\\sklearn\\neural_network\\multilayer_perceptron.py:564: ConvergenceWarning: Stochastic Optimizer: Maximum iterations (10) reached and the optimization hasn't converged yet.\n  % self.max_iter, ConvergenceWarning)\n"
    },
    {
     "data": {
      "text/plain": "MLPClassifier(activation='relu', alpha=0.0001, batch_size='auto', beta_1=0.9,\n       beta_2=0.999, early_stopping=False, epsilon=1e-08,\n       hidden_layer_sizes=(10,), learning_rate='adaptive',\n       learning_rate_init=0.001, max_iter=10, momentum=0.9,\n       nesterovs_momentum=True, power_t=0.5, random_state=None,\n       shuffle=True, solver='adam', tol=0.0001, validation_fraction=0.1,\n       verbose=True, warm_start=False)"
     },
     "execution_count": 27,
     "metadata": {},
     "output_type": "execute_result"
    }
   ],
   "source": [
    "mlp.fit(X_train,y_train)"
   ]
  },
  {
   "cell_type": "code",
   "execution_count": 0,
   "metadata": {},
   "outputs": [],
   "source": [
    "print(reg.score(X_test,y_test)*100)"
   ]
  },
  {
   "cell_type": "code",
   "execution_count": null,
   "metadata": {},
   "outputs": [],
   "source": []
  }
 ]
}