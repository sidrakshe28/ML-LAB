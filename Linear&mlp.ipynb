{
 "cells": [
  {
   "cell_type": "code",
   "execution_count": 1,
   "metadata": {},
   "outputs": [],
   "source": [
    "import pandas as pd\n",
    "from sklearn.linear_model import LinearRegression\n",
    "import numpy as np\n",
    "from sklearn import preprocessing "
   ]
  },
  {
   "cell_type": "code",
   "execution_count": 2,
   "metadata": {},
   "outputs": [],
   "source": [
    "from sklearn.preprocessing import StandardScaler\n",
    "df=pd.read_csv('kc_house_data.csv')                     "
   ]
  },
  {
   "cell_type": "code",
   "execution_count": 3,
   "metadata": {},
   "outputs": [],
   "source": [
    "df_=df.dropna(axis=0,how='any')                       #drops the null values"
   ]
  },
  {
   "cell_type": "code",
   "execution_count": 4,
   "metadata": {},
   "outputs": [],
   "source": [
    "x=df_.iloc[:,3:21]\n",
    "y=df_['price']"
   ]
  },
  {
   "cell_type": "code",
   "execution_count": 5,
   "metadata": {},
   "outputs": [
    {
     "data": {
      "text/plain": [
       "(21611, 18)"
      ]
     },
     "execution_count": 5,
     "metadata": {},
     "output_type": "execute_result"
    }
   ],
   "source": [
    "x.shape                     #to know the current shape of the array"
   ]
  },
  {
   "cell_type": "code",
   "execution_count": 6,
   "metadata": {},
   "outputs": [],
   "source": [
    "obj=StandardScaler()\n",
    "x_=obj.fit_transform(x)"
   ]
  },
  {
   "cell_type": "code",
   "execution_count": 7,
   "metadata": {},
   "outputs": [],
   "source": [
    "from sklearn.model_selection import train_test_split"
   ]
  },
  {
   "cell_type": "code",
   "execution_count": 8,
   "metadata": {},
   "outputs": [],
   "source": [
    "x_train,x_test,y_train,y_test=train_test_split(x,y,test_size=0.20,random_state=42)"
   ]
  },
  {
   "cell_type": "code",
   "execution_count": 9,
   "metadata": {},
   "outputs": [
    {
     "data": {
      "text/plain": [
       "(17288, 18)"
      ]
     },
     "execution_count": 9,
     "metadata": {},
     "output_type": "execute_result"
    }
   ],
   "source": [
    "x_train.shape"
   ]
  },
  {
   "cell_type": "code",
   "execution_count": 10,
   "metadata": {},
   "outputs": [
    {
     "data": {
      "text/plain": [
       "(17288,)"
      ]
     },
     "execution_count": 10,
     "metadata": {},
     "output_type": "execute_result"
    }
   ],
   "source": [
    "y_train.shape"
   ]
  },
  {
   "cell_type": "code",
   "execution_count": 11,
   "metadata": {},
   "outputs": [],
   "source": [
    "reg=LinearRegression(fit_intercept=True, normalize=True)"
   ]
  },
  {
   "cell_type": "code",
   "execution_count": 12,
   "metadata": {},
   "outputs": [
    {
     "data": {
      "text/plain": [
       "LinearRegression(copy_X=True, fit_intercept=True, n_jobs=1, normalize=True)"
      ]
     },
     "execution_count": 12,
     "metadata": {},
     "output_type": "execute_result"
    }
   ],
   "source": [
    "reg.fit(x_train,y_train)"
   ]
  },
  {
   "cell_type": "code",
   "execution_count": 13,
   "metadata": {},
   "outputs": [
    {
     "name": "stdout",
     "output_type": "stream",
     "text": [
      "70.89156128500275\n"
     ]
    }
   ],
   "source": [
    "print(reg.score(x_test,y_test)*100)"
   ]
  },
  {
   "cell_type": "code",
   "execution_count": 14,
   "metadata": {},
   "outputs": [],
   "source": [
    "from sklearn.neural_network import MLPClassifier"
   ]
  },
  {
   "cell_type": "code",
   "execution_count": 15,
   "metadata": {},
   "outputs": [],
   "source": [
    "mlp=MLPClassifier(hidden_layer_sizes=(6,6,6), activation='relu',solver='adam',learning_rate='adaptive',verbose=True,max_iter=100)"
   ]
  },
  {
   "cell_type": "code",
   "execution_count": 16,
   "metadata": {},
   "outputs": [
    {
     "data": {
      "text/plain": [
       "MLPClassifier(activation='relu', alpha=0.0001, batch_size='auto', beta_1=0.9,\n",
       "       beta_2=0.999, early_stopping=False, epsilon=1e-08,\n",
       "       hidden_layer_sizes=(6, 6, 6), learning_rate='adaptive',\n",
       "       learning_rate_init=0.001, max_iter=100, momentum=0.9,\n",
       "       nesterovs_momentum=True, power_t=0.5, random_state=None,\n",
       "       shuffle=True, solver='adam', tol=0.0001, validation_fraction=0.1,\n",
       "       verbose=True, warm_start=False)"
      ]
     },
     "execution_count": 16,
     "metadata": {},
     "output_type": "execute_result"
    }
   ],
   "source": [
    "mlp"
   ]
  },
  {
   "cell_type": "code",
   "execution_count": 17,
   "metadata": {},
   "outputs": [
    {
     "name": "stdout",
     "output_type": "stream",
     "text": [
      "Iteration 1, loss = 21.37381570\n",
      "Iteration 2, loss = 12.63803113\n",
      "Iteration 3, loss = 8.90611910\n",
      "Iteration 4, loss = 8.47054245\n",
      "Iteration 5, loss = 8.19955707\n",
      "Iteration 6, loss = 8.07724764\n",
      "Iteration 7, loss = 8.01990905\n",
      "Iteration 8, loss = 7.98458599\n",
      "Iteration 9, loss = 7.94788046\n",
      "Iteration 10, loss = 7.91120964\n",
      "Iteration 11, loss = 7.87494155\n",
      "Iteration 12, loss = 7.84285509\n",
      "Iteration 13, loss = 7.81124471\n",
      "Iteration 14, loss = 7.77994196\n",
      "Iteration 15, loss = 7.74589872\n",
      "Iteration 16, loss = 7.71696639\n",
      "Iteration 17, loss = 7.68556882\n",
      "Iteration 18, loss = 7.65681002\n",
      "Iteration 19, loss = 7.62994238\n",
      "Iteration 20, loss = 7.60210204\n",
      "Iteration 21, loss = 7.57760507\n",
      "Iteration 22, loss = 7.54991986\n",
      "Iteration 23, loss = 7.52637629\n",
      "Iteration 24, loss = 7.50265246\n",
      "Iteration 25, loss = 7.48018126\n",
      "Iteration 26, loss = 7.45888735\n",
      "Iteration 27, loss = 7.43676330\n",
      "Iteration 28, loss = 7.41573519\n",
      "Iteration 29, loss = 7.39627401\n",
      "Iteration 30, loss = 7.37777473\n",
      "Iteration 31, loss = 7.35969441\n",
      "Iteration 32, loss = 7.33780644\n",
      "Iteration 33, loss = 7.32053443\n",
      "Iteration 34, loss = 7.30499542\n",
      "Iteration 35, loss = 7.28343277\n",
      "Iteration 36, loss = 7.27381873\n",
      "Iteration 37, loss = 7.25995460\n",
      "Iteration 38, loss = 7.24331822\n",
      "Iteration 39, loss = 7.22845344\n",
      "Iteration 40, loss = 7.21328574\n",
      "Iteration 41, loss = 7.20487864\n",
      "Iteration 42, loss = 7.19450225\n",
      "Iteration 43, loss = 7.18013834\n",
      "Iteration 44, loss = 7.17345009\n",
      "Iteration 45, loss = 7.16957242\n",
      "Iteration 46, loss = 7.15891000\n",
      "Iteration 47, loss = 7.14754067\n",
      "Iteration 48, loss = 7.13740188\n",
      "Iteration 49, loss = 7.12444196\n",
      "Iteration 50, loss = 7.11923901\n",
      "Iteration 51, loss = 7.11036243\n",
      "Iteration 52, loss = 7.10553207\n",
      "Iteration 53, loss = 7.09911132\n",
      "Iteration 54, loss = 7.09280603\n",
      "Iteration 55, loss = 7.08774246\n",
      "Iteration 56, loss = 7.08413108\n",
      "Iteration 57, loss = 7.07988923\n",
      "Iteration 58, loss = 7.07130909\n",
      "Iteration 59, loss = 7.07190413\n",
      "Iteration 60, loss = 7.06714537\n",
      "Iteration 61, loss = 7.06282071\n",
      "Iteration 62, loss = 7.05733560\n",
      "Iteration 63, loss = 7.05282656\n",
      "Iteration 64, loss = 7.04693541\n",
      "Iteration 65, loss = 7.05011824\n",
      "Iteration 66, loss = 7.04536358\n",
      "Iteration 67, loss = 7.04010568\n",
      "Iteration 68, loss = 7.04014149\n",
      "Iteration 69, loss = 7.03558928\n",
      "Iteration 70, loss = 7.03293934\n",
      "Iteration 71, loss = 7.03334761\n",
      "Iteration 72, loss = 7.03110876\n",
      "Iteration 73, loss = 7.03066614\n",
      "Iteration 74, loss = 7.02677224\n",
      "Iteration 75, loss = 7.02386038\n",
      "Iteration 76, loss = 7.02349705\n",
      "Iteration 77, loss = 7.01990810\n",
      "Iteration 78, loss = 7.01987819\n",
      "Iteration 79, loss = 7.01689254\n",
      "Iteration 80, loss = 7.01828692\n",
      "Iteration 81, loss = 7.01513987\n",
      "Iteration 82, loss = 7.01322013\n",
      "Iteration 83, loss = 7.01251591\n",
      "Iteration 84, loss = 7.01228549\n",
      "Iteration 85, loss = 7.00907464\n",
      "Iteration 86, loss = 7.00704668\n",
      "Iteration 87, loss = 7.00632012\n",
      "Iteration 88, loss = 7.01239667\n",
      "Iteration 89, loss = 7.00863186\n",
      "Iteration 90, loss = 7.00595569\n",
      "Iteration 91, loss = 7.00605148\n",
      "Iteration 92, loss = 7.00302642\n",
      "Iteration 93, loss = 7.00191095\n",
      "Iteration 94, loss = 7.00955983\n",
      "Iteration 95, loss = 7.01469927\n",
      "Iteration 96, loss = 7.01415912\n",
      "Training loss did not improve more than tol=0.000100 for two consecutive epochs. Stopping.\n"
     ]
    },
    {
     "data": {
      "text/plain": [
       "MLPClassifier(activation='relu', alpha=0.0001, batch_size='auto', beta_1=0.9,\n",
       "       beta_2=0.999, early_stopping=False, epsilon=1e-08,\n",
       "       hidden_layer_sizes=(6, 6, 6), learning_rate='adaptive',\n",
       "       learning_rate_init=0.001, max_iter=100, momentum=0.9,\n",
       "       nesterovs_momentum=True, power_t=0.5, random_state=None,\n",
       "       shuffle=True, solver='adam', tol=0.0001, validation_fraction=0.1,\n",
       "       verbose=True, warm_start=False)"
      ]
     },
     "execution_count": 17,
     "metadata": {},
     "output_type": "execute_result"
    }
   ],
   "source": [
    "mlp.fit(x_train,y_train)"
   ]
  },
  {
   "cell_type": "code",
   "execution_count": 18,
   "metadata": {},
   "outputs": [],
   "source": [
    "predict=mlp.predict(x_test)\n",
    "predict=mlp.predict(x_train)"
   ]
  },
  {
   "cell_type": "code",
   "execution_count": 19,
   "metadata": {},
   "outputs": [],
   "source": [
    "score1=mlp.score(x_test,y_test)*100\n",
    "score2=mlp.score(x_train,y_train)*100"
   ]
  },
  {
   "cell_type": "code",
   "execution_count": 20,
   "metadata": {},
   "outputs": [
    {
     "name": "stdout",
     "output_type": "stream",
     "text": [
      "80.96229470275271\n",
      "79.82415548357241\n"
     ]
    }
   ],
   "source": [
    "print((score1)*100)\n",
    "print((score2)*100)"
   ]
  },
  {
   "cell_type": "code",
   "execution_count": null,
   "metadata": {},
   "outputs": [],
   "source": []
  }
 ],
 "metadata": {
  "kernelspec": {
   "display_name": "Python 3",
   "language": "python",
   "name": "python3"
  },
  "language_info": {
   "codemirror_mode": {
    "name": "ipython",
    "version": 3
   },
   "file_extension": ".py",
   "mimetype": "text/x-python",
   "name": "python",
   "nbconvert_exporter": "python",
   "pygments_lexer": "ipython3",
   "version": "3.6.5"
  }
 },
 "nbformat": 4,
 "nbformat_minor": 2
}
