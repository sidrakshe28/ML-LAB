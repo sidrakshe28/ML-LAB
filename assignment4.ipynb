{
 "nbformat": 4,
 "nbformat_minor": 2,
 "metadata": {
  "language_info": {
   "name": "python",
   "codemirror_mode": {
    "name": "ipython",
    "version": 3
   },
   "version": "3.6.6-final"
  },
  "orig_nbformat": 2,
  "file_extension": ".py",
  "mimetype": "text/x-python",
  "name": "python",
  "npconvert_exporter": "python",
  "pygments_lexer": "ipython3",
  "version": 3,
  "kernelspec": {
   "name": "python36664bit0dae64bc2c7f4db3a79eae90e3d548d6",
   "display_name": "Python 3.6.6 64-bit"
  }
 },
 "cells": [
  {
   "cell_type": "code",
   "execution_count": 206,
   "metadata": {},
   "outputs": [],
   "source": [
    "import pandas as pd\n"
   ]
  },
  {
   "cell_type": "code",
   "execution_count": 239,
   "metadata": {},
   "outputs": [],
   "source": [
    "df=pd.read_csv('kc_house_data.csv')\n",
    "df_=df.dropna(axis=1,how='any')"
   ]
  },
  {
   "cell_type": "code",
   "execution_count": 240,
   "metadata": {},
   "outputs": [
    {
     "data": {
      "text/html": "<div>\n<style scoped>\n    .dataframe tbody tr th:only-of-type {\n        vertical-align: middle;\n    }\n\n    .dataframe tbody tr th {\n        vertical-align: top;\n    }\n\n    .dataframe thead th {\n        text-align: right;\n    }\n</style>\n<table border=\"1\" class=\"dataframe\">\n  <thead>\n    <tr style=\"text-align: right;\">\n      <th></th>\n      <th>id</th>\n      <th>date</th>\n      <th>price</th>\n      <th>bedrooms</th>\n      <th>bathrooms</th>\n      <th>sqft_living</th>\n      <th>sqft_lot</th>\n      <th>floors</th>\n      <th>waterfront</th>\n      <th>view</th>\n      <th>...</th>\n      <th>grade</th>\n      <th>sqft_above</th>\n      <th>sqft_basement</th>\n      <th>yr_built</th>\n      <th>yr_renovated</th>\n      <th>zipcode</th>\n      <th>lat</th>\n      <th>long</th>\n      <th>sqft_living15</th>\n      <th>sqft_lot15</th>\n    </tr>\n  </thead>\n  <tbody>\n    <tr>\n      <th>0</th>\n      <td>7129300520</td>\n      <td>20141013T000000</td>\n      <td>221900.0</td>\n      <td>3</td>\n      <td>1.00</td>\n      <td>1180</td>\n      <td>5650</td>\n      <td>1.0</td>\n      <td>0</td>\n      <td>0</td>\n      <td>...</td>\n      <td>7</td>\n      <td>1180.0</td>\n      <td>0</td>\n      <td>1955</td>\n      <td>0</td>\n      <td>98178</td>\n      <td>47.5112</td>\n      <td>-122.257</td>\n      <td>1340</td>\n      <td>5650</td>\n    </tr>\n    <tr>\n      <th>1</th>\n      <td>6414100192</td>\n      <td>20141209T000000</td>\n      <td>538000.0</td>\n      <td>3</td>\n      <td>2.25</td>\n      <td>2570</td>\n      <td>7242</td>\n      <td>2.0</td>\n      <td>0</td>\n      <td>0</td>\n      <td>...</td>\n      <td>7</td>\n      <td>2170.0</td>\n      <td>400</td>\n      <td>1951</td>\n      <td>1991</td>\n      <td>98125</td>\n      <td>47.7210</td>\n      <td>-122.319</td>\n      <td>1690</td>\n      <td>7639</td>\n    </tr>\n    <tr>\n      <th>2</th>\n      <td>5631500400</td>\n      <td>20150225T000000</td>\n      <td>180000.0</td>\n      <td>2</td>\n      <td>1.00</td>\n      <td>770</td>\n      <td>10000</td>\n      <td>1.0</td>\n      <td>0</td>\n      <td>0</td>\n      <td>...</td>\n      <td>6</td>\n      <td>770.0</td>\n      <td>0</td>\n      <td>1933</td>\n      <td>0</td>\n      <td>98028</td>\n      <td>47.7379</td>\n      <td>-122.233</td>\n      <td>2720</td>\n      <td>8062</td>\n    </tr>\n    <tr>\n      <th>3</th>\n      <td>2487200875</td>\n      <td>20141209T000000</td>\n      <td>604000.0</td>\n      <td>4</td>\n      <td>3.00</td>\n      <td>1960</td>\n      <td>5000</td>\n      <td>1.0</td>\n      <td>0</td>\n      <td>0</td>\n      <td>...</td>\n      <td>7</td>\n      <td>1050.0</td>\n      <td>910</td>\n      <td>1965</td>\n      <td>0</td>\n      <td>98136</td>\n      <td>47.5208</td>\n      <td>-122.393</td>\n      <td>1360</td>\n      <td>5000</td>\n    </tr>\n    <tr>\n      <th>4</th>\n      <td>1954400510</td>\n      <td>20150218T000000</td>\n      <td>510000.0</td>\n      <td>3</td>\n      <td>2.00</td>\n      <td>1680</td>\n      <td>8080</td>\n      <td>1.0</td>\n      <td>0</td>\n      <td>0</td>\n      <td>...</td>\n      <td>8</td>\n      <td>1680.0</td>\n      <td>0</td>\n      <td>1987</td>\n      <td>0</td>\n      <td>98074</td>\n      <td>47.6168</td>\n      <td>-122.045</td>\n      <td>1800</td>\n      <td>7503</td>\n    </tr>\n    <tr>\n      <th>...</th>\n      <td>...</td>\n      <td>...</td>\n      <td>...</td>\n      <td>...</td>\n      <td>...</td>\n      <td>...</td>\n      <td>...</td>\n      <td>...</td>\n      <td>...</td>\n      <td>...</td>\n      <td>...</td>\n      <td>...</td>\n      <td>...</td>\n      <td>...</td>\n      <td>...</td>\n      <td>...</td>\n      <td>...</td>\n      <td>...</td>\n      <td>...</td>\n      <td>...</td>\n      <td>...</td>\n    </tr>\n    <tr>\n      <th>21608</th>\n      <td>263000018</td>\n      <td>20140521T000000</td>\n      <td>360000.0</td>\n      <td>3</td>\n      <td>2.50</td>\n      <td>1530</td>\n      <td>1131</td>\n      <td>3.0</td>\n      <td>0</td>\n      <td>0</td>\n      <td>...</td>\n      <td>8</td>\n      <td>1530.0</td>\n      <td>0</td>\n      <td>2009</td>\n      <td>0</td>\n      <td>98103</td>\n      <td>47.6993</td>\n      <td>-122.346</td>\n      <td>1530</td>\n      <td>1509</td>\n    </tr>\n    <tr>\n      <th>21609</th>\n      <td>6600060120</td>\n      <td>20150223T000000</td>\n      <td>400000.0</td>\n      <td>4</td>\n      <td>2.50</td>\n      <td>2310</td>\n      <td>5813</td>\n      <td>2.0</td>\n      <td>0</td>\n      <td>0</td>\n      <td>...</td>\n      <td>8</td>\n      <td>2310.0</td>\n      <td>0</td>\n      <td>2014</td>\n      <td>0</td>\n      <td>98146</td>\n      <td>47.5107</td>\n      <td>-122.362</td>\n      <td>1830</td>\n      <td>7200</td>\n    </tr>\n    <tr>\n      <th>21610</th>\n      <td>1523300141</td>\n      <td>20140623T000000</td>\n      <td>402101.0</td>\n      <td>2</td>\n      <td>0.75</td>\n      <td>1020</td>\n      <td>1350</td>\n      <td>2.0</td>\n      <td>0</td>\n      <td>0</td>\n      <td>...</td>\n      <td>7</td>\n      <td>1020.0</td>\n      <td>0</td>\n      <td>2009</td>\n      <td>0</td>\n      <td>98144</td>\n      <td>47.5944</td>\n      <td>-122.299</td>\n      <td>1020</td>\n      <td>2007</td>\n    </tr>\n    <tr>\n      <th>21611</th>\n      <td>291310100</td>\n      <td>20150116T000000</td>\n      <td>400000.0</td>\n      <td>3</td>\n      <td>2.50</td>\n      <td>1600</td>\n      <td>2388</td>\n      <td>2.0</td>\n      <td>0</td>\n      <td>0</td>\n      <td>...</td>\n      <td>8</td>\n      <td>1600.0</td>\n      <td>0</td>\n      <td>2004</td>\n      <td>0</td>\n      <td>98027</td>\n      <td>47.5345</td>\n      <td>-122.069</td>\n      <td>1410</td>\n      <td>1287</td>\n    </tr>\n    <tr>\n      <th>21612</th>\n      <td>1523300157</td>\n      <td>20141015T000000</td>\n      <td>325000.0</td>\n      <td>2</td>\n      <td>0.75</td>\n      <td>1020</td>\n      <td>1076</td>\n      <td>2.0</td>\n      <td>0</td>\n      <td>0</td>\n      <td>...</td>\n      <td>7</td>\n      <td>1020.0</td>\n      <td>0</td>\n      <td>2008</td>\n      <td>0</td>\n      <td>98144</td>\n      <td>47.5941</td>\n      <td>-122.299</td>\n      <td>1020</td>\n      <td>1357</td>\n    </tr>\n  </tbody>\n</table>\n<p>21613 rows × 21 columns</p>\n</div>",
      "text/plain": "               id             date     price  bedrooms  bathrooms  \\\n0      7129300520  20141013T000000  221900.0         3       1.00   \n1      6414100192  20141209T000000  538000.0         3       2.25   \n2      5631500400  20150225T000000  180000.0         2       1.00   \n3      2487200875  20141209T000000  604000.0         4       3.00   \n4      1954400510  20150218T000000  510000.0         3       2.00   \n...           ...              ...       ...       ...        ...   \n21608   263000018  20140521T000000  360000.0         3       2.50   \n21609  6600060120  20150223T000000  400000.0         4       2.50   \n21610  1523300141  20140623T000000  402101.0         2       0.75   \n21611   291310100  20150116T000000  400000.0         3       2.50   \n21612  1523300157  20141015T000000  325000.0         2       0.75   \n\n       sqft_living  sqft_lot  floors  waterfront  view  ...  grade  \\\n0             1180      5650     1.0           0     0  ...      7   \n1             2570      7242     2.0           0     0  ...      7   \n2              770     10000     1.0           0     0  ...      6   \n3             1960      5000     1.0           0     0  ...      7   \n4             1680      8080     1.0           0     0  ...      8   \n...            ...       ...     ...         ...   ...  ...    ...   \n21608         1530      1131     3.0           0     0  ...      8   \n21609         2310      5813     2.0           0     0  ...      8   \n21610         1020      1350     2.0           0     0  ...      7   \n21611         1600      2388     2.0           0     0  ...      8   \n21612         1020      1076     2.0           0     0  ...      7   \n\n       sqft_above  sqft_basement  yr_built  yr_renovated  zipcode      lat  \\\n0          1180.0              0      1955             0    98178  47.5112   \n1          2170.0            400      1951          1991    98125  47.7210   \n2           770.0              0      1933             0    98028  47.7379   \n3          1050.0            910      1965             0    98136  47.5208   \n4          1680.0              0      1987             0    98074  47.6168   \n...           ...            ...       ...           ...      ...      ...   \n21608      1530.0              0      2009             0    98103  47.6993   \n21609      2310.0              0      2014             0    98146  47.5107   \n21610      1020.0              0      2009             0    98144  47.5944   \n21611      1600.0              0      2004             0    98027  47.5345   \n21612      1020.0              0      2008             0    98144  47.5941   \n\n          long  sqft_living15  sqft_lot15  \n0     -122.257           1340        5650  \n1     -122.319           1690        7639  \n2     -122.233           2720        8062  \n3     -122.393           1360        5000  \n4     -122.045           1800        7503  \n...        ...            ...         ...  \n21608 -122.346           1530        1509  \n21609 -122.362           1830        7200  \n21610 -122.299           1020        2007  \n21611 -122.069           1410        1287  \n21612 -122.299           1020        1357  \n\n[21613 rows x 21 columns]"
     },
     "execution_count": 240,
     "metadata": {},
     "output_type": "execute_result"
    }
   ],
   "source": [
    "df\n"
   ]
  },
  {
   "cell_type": "code",
   "execution_count": 241,
   "metadata": {},
   "outputs": [],
   "source": [
    "from sklearn.model_selection import train_test_split\n",
    "from sklearn.preprocessing import StandardScaler\n",
    "obj=StandardScaler()\n",
    "x=df_.iloc[:,3:15]\n",
    "x_=obj.fit_transform(x)\n",
    "y=df['price'].values\n",
    "X_train, X_test, y_train, y_test = train_test_split(x_, y, test_size=0.2,random_state=42)\n",
    "\n"
   ]
  },
  {
   "cell_type": "code",
   "execution_count": 242,
   "metadata": {},
   "outputs": [
    {
     "data": {
      "text/plain": "array([[-0.39873715, -1.44746357, -0.97983502, ..., -0.65868104,\n        -0.54489777, -0.21012839],\n       [-0.39873715,  0.1756067 ,  0.53363434, ...,  0.2451414 ,\n        -0.6810785 ,  4.7466776 ],\n       [-1.47395936, -1.44746357, -1.42625404, ..., -0.65868104,\n        -1.29389179, -0.21012839],\n       ...,\n       [-1.47395936, -1.77207762, -1.15404732, ..., -0.65868104,\n         1.29354209, -0.21012839],\n       [-0.39873715,  0.50022075, -0.52252773, ..., -0.65868104,\n         1.12331618, -0.21012839],\n       [-1.47395936, -1.77207762, -1.15404732, ..., -0.65868104,\n         1.25949691, -0.21012839]])"
     },
     "execution_count": 242,
     "metadata": {},
     "output_type": "execute_result"
    }
   ],
   "source": [
    "x_"
   ]
  },
  {
   "cell_type": "code",
   "execution_count": 243,
   "metadata": {},
   "outputs": [
    {
     "data": {
      "text/plain": "(21613,)"
     },
     "execution_count": 243,
     "metadata": {},
     "output_type": "execute_result"
    }
   ],
   "source": [
    "y.shape"
   ]
  },
  {
   "cell_type": "code",
   "execution_count": 264,
   "metadata": {},
   "outputs": [],
   "source": [
    "from sklearn.neural_network import MLPRegressor \n",
    "mlp=MLPRegressor(hidden_layer_sizes=(175,),activation='relu',solver='lbfgs',learning_rate='adaptive',verbose=True,max_iter=100)"
   ]
  },
  {
   "cell_type": "code",
   "execution_count": 265,
   "metadata": {},
   "outputs": [
    {
     "data": {
      "text/plain": "MLPRegressor(activation='relu', alpha=0.0001, batch_size='auto', beta_1=0.9,\n       beta_2=0.999, early_stopping=False, epsilon=1e-08,\n       hidden_layer_sizes=(175,), learning_rate='adaptive',\n       learning_rate_init=0.001, max_iter=100, momentum=0.9,\n       nesterovs_momentum=True, power_t=0.5, random_state=None,\n       shuffle=True, solver='lbfgs', tol=0.0001, validation_fraction=0.1,\n       verbose=True, warm_start=False)"
     },
     "execution_count": 265,
     "metadata": {},
     "output_type": "execute_result"
    }
   ],
   "source": [
    "reg"
   ]
  },
  {
   "cell_type": "code",
   "execution_count": 266,
   "metadata": {},
   "outputs": [
    {
     "data": {
      "text/html": "<div>\n<style scoped>\n    .dataframe tbody tr th:only-of-type {\n        vertical-align: middle;\n    }\n\n    .dataframe tbody tr th {\n        vertical-align: top;\n    }\n\n    .dataframe thead th {\n        text-align: right;\n    }\n</style>\n<table border=\"1\" class=\"dataframe\">\n  <thead>\n    <tr style=\"text-align: right;\">\n      <th></th>\n      <th>id</th>\n      <th>price</th>\n      <th>bedrooms</th>\n      <th>bathrooms</th>\n      <th>sqft_living</th>\n      <th>sqft_lot</th>\n      <th>floors</th>\n      <th>waterfront</th>\n      <th>view</th>\n      <th>condition</th>\n      <th>grade</th>\n      <th>sqft_above</th>\n      <th>sqft_basement</th>\n      <th>yr_built</th>\n      <th>yr_renovated</th>\n      <th>zipcode</th>\n      <th>lat</th>\n      <th>long</th>\n      <th>sqft_living15</th>\n      <th>sqft_lot15</th>\n    </tr>\n  </thead>\n  <tbody>\n    <tr>\n      <th>id</th>\n      <td>1.000000</td>\n      <td>-0.016762</td>\n      <td>0.001286</td>\n      <td>0.005160</td>\n      <td>-0.012258</td>\n      <td>-0.132109</td>\n      <td>0.018525</td>\n      <td>-0.002721</td>\n      <td>0.011592</td>\n      <td>-0.023783</td>\n      <td>0.008130</td>\n      <td>-0.010830</td>\n      <td>-0.005151</td>\n      <td>0.021380</td>\n      <td>-0.016907</td>\n      <td>-0.008224</td>\n      <td>-0.001891</td>\n      <td>0.020799</td>\n      <td>-0.002901</td>\n      <td>-0.138798</td>\n    </tr>\n    <tr>\n      <th>price</th>\n      <td>-0.016762</td>\n      <td>1.000000</td>\n      <td>0.308350</td>\n      <td>0.525138</td>\n      <td>0.702035</td>\n      <td>0.089661</td>\n      <td>0.256794</td>\n      <td>0.266369</td>\n      <td>0.397293</td>\n      <td>0.036362</td>\n      <td>0.667434</td>\n      <td>0.605567</td>\n      <td>0.323816</td>\n      <td>0.054012</td>\n      <td>0.126434</td>\n      <td>-0.053203</td>\n      <td>0.307003</td>\n      <td>0.021626</td>\n      <td>0.585379</td>\n      <td>0.082447</td>\n    </tr>\n    <tr>\n      <th>bedrooms</th>\n      <td>0.001286</td>\n      <td>0.308350</td>\n      <td>1.000000</td>\n      <td>0.515884</td>\n      <td>0.576671</td>\n      <td>0.031703</td>\n      <td>0.175429</td>\n      <td>-0.006582</td>\n      <td>0.079532</td>\n      <td>0.028472</td>\n      <td>0.356967</td>\n      <td>0.477616</td>\n      <td>0.303093</td>\n      <td>0.154178</td>\n      <td>0.018841</td>\n      <td>-0.152668</td>\n      <td>-0.008931</td>\n      <td>0.129473</td>\n      <td>0.391638</td>\n      <td>0.029244</td>\n    </tr>\n    <tr>\n      <th>bathrooms</th>\n      <td>0.005160</td>\n      <td>0.525138</td>\n      <td>0.515884</td>\n      <td>1.000000</td>\n      <td>0.754665</td>\n      <td>0.087740</td>\n      <td>0.500653</td>\n      <td>0.063744</td>\n      <td>0.187737</td>\n      <td>-0.124982</td>\n      <td>0.664983</td>\n      <td>0.685363</td>\n      <td>0.283770</td>\n      <td>0.506019</td>\n      <td>0.050739</td>\n      <td>-0.203866</td>\n      <td>0.024573</td>\n      <td>0.223042</td>\n      <td>0.568634</td>\n      <td>0.087175</td>\n    </tr>\n    <tr>\n      <th>sqft_living</th>\n      <td>-0.012258</td>\n      <td>0.702035</td>\n      <td>0.576671</td>\n      <td>0.754665</td>\n      <td>1.000000</td>\n      <td>0.172826</td>\n      <td>0.353949</td>\n      <td>0.103818</td>\n      <td>0.284611</td>\n      <td>-0.058753</td>\n      <td>0.762704</td>\n      <td>0.876644</td>\n      <td>0.435043</td>\n      <td>0.318049</td>\n      <td>0.055363</td>\n      <td>-0.199430</td>\n      <td>0.052529</td>\n      <td>0.240223</td>\n      <td>0.756420</td>\n      <td>0.183286</td>\n    </tr>\n    <tr>\n      <th>sqft_lot</th>\n      <td>-0.132109</td>\n      <td>0.089661</td>\n      <td>0.031703</td>\n      <td>0.087740</td>\n      <td>0.172826</td>\n      <td>1.000000</td>\n      <td>-0.005201</td>\n      <td>0.021604</td>\n      <td>0.074710</td>\n      <td>-0.008958</td>\n      <td>0.113621</td>\n      <td>0.183511</td>\n      <td>0.015286</td>\n      <td>0.053080</td>\n      <td>0.007644</td>\n      <td>-0.129574</td>\n      <td>-0.085683</td>\n      <td>0.229521</td>\n      <td>0.144608</td>\n      <td>0.718557</td>\n    </tr>\n    <tr>\n      <th>floors</th>\n      <td>0.018525</td>\n      <td>0.256794</td>\n      <td>0.175429</td>\n      <td>0.500653</td>\n      <td>0.353949</td>\n      <td>-0.005201</td>\n      <td>1.000000</td>\n      <td>0.023698</td>\n      <td>0.029444</td>\n      <td>-0.263768</td>\n      <td>0.458183</td>\n      <td>0.523899</td>\n      <td>-0.245705</td>\n      <td>0.489319</td>\n      <td>0.006338</td>\n      <td>-0.059121</td>\n      <td>0.049614</td>\n      <td>0.125419</td>\n      <td>0.279885</td>\n      <td>-0.011269</td>\n    </tr>\n    <tr>\n      <th>waterfront</th>\n      <td>-0.002721</td>\n      <td>0.266369</td>\n      <td>-0.006582</td>\n      <td>0.063744</td>\n      <td>0.103818</td>\n      <td>0.021604</td>\n      <td>0.023698</td>\n      <td>1.000000</td>\n      <td>0.401857</td>\n      <td>0.016653</td>\n      <td>0.082775</td>\n      <td>0.072074</td>\n      <td>0.080588</td>\n      <td>-0.026161</td>\n      <td>0.092885</td>\n      <td>0.030285</td>\n      <td>-0.014274</td>\n      <td>-0.041910</td>\n      <td>0.086463</td>\n      <td>0.030703</td>\n    </tr>\n    <tr>\n      <th>view</th>\n      <td>0.011592</td>\n      <td>0.397293</td>\n      <td>0.079532</td>\n      <td>0.187737</td>\n      <td>0.284611</td>\n      <td>0.074710</td>\n      <td>0.029444</td>\n      <td>0.401857</td>\n      <td>1.000000</td>\n      <td>0.045990</td>\n      <td>0.251321</td>\n      <td>0.167648</td>\n      <td>0.276947</td>\n      <td>-0.053440</td>\n      <td>0.103917</td>\n      <td>0.084827</td>\n      <td>0.006157</td>\n      <td>-0.078400</td>\n      <td>0.280439</td>\n      <td>0.072575</td>\n    </tr>\n    <tr>\n      <th>condition</th>\n      <td>-0.023783</td>\n      <td>0.036362</td>\n      <td>0.028472</td>\n      <td>-0.124982</td>\n      <td>-0.058753</td>\n      <td>-0.008958</td>\n      <td>-0.263768</td>\n      <td>0.016653</td>\n      <td>0.045990</td>\n      <td>1.000000</td>\n      <td>-0.144674</td>\n      <td>-0.158206</td>\n      <td>0.174105</td>\n      <td>-0.361417</td>\n      <td>-0.060618</td>\n      <td>0.003026</td>\n      <td>-0.014941</td>\n      <td>-0.106500</td>\n      <td>-0.092824</td>\n      <td>-0.003406</td>\n    </tr>\n    <tr>\n      <th>grade</th>\n      <td>0.008130</td>\n      <td>0.667434</td>\n      <td>0.356967</td>\n      <td>0.664983</td>\n      <td>0.762704</td>\n      <td>0.113621</td>\n      <td>0.458183</td>\n      <td>0.082775</td>\n      <td>0.251321</td>\n      <td>-0.144674</td>\n      <td>1.000000</td>\n      <td>0.755924</td>\n      <td>0.168392</td>\n      <td>0.446963</td>\n      <td>0.014414</td>\n      <td>-0.184862</td>\n      <td>0.114084</td>\n      <td>0.198372</td>\n      <td>0.713202</td>\n      <td>0.119248</td>\n    </tr>\n    <tr>\n      <th>sqft_above</th>\n      <td>-0.010830</td>\n      <td>0.605567</td>\n      <td>0.477616</td>\n      <td>0.685363</td>\n      <td>0.876644</td>\n      <td>0.183511</td>\n      <td>0.523899</td>\n      <td>0.072074</td>\n      <td>0.167648</td>\n      <td>-0.158206</td>\n      <td>0.755924</td>\n      <td>1.000000</td>\n      <td>-0.051976</td>\n      <td>0.423915</td>\n      <td>0.023283</td>\n      <td>-0.261192</td>\n      <td>-0.000810</td>\n      <td>0.343800</td>\n      <td>0.731871</td>\n      <td>0.194048</td>\n    </tr>\n    <tr>\n      <th>sqft_basement</th>\n      <td>-0.005151</td>\n      <td>0.323816</td>\n      <td>0.303093</td>\n      <td>0.283770</td>\n      <td>0.435043</td>\n      <td>0.015286</td>\n      <td>-0.245705</td>\n      <td>0.080588</td>\n      <td>0.276947</td>\n      <td>0.174105</td>\n      <td>0.168392</td>\n      <td>-0.051976</td>\n      <td>1.000000</td>\n      <td>-0.133124</td>\n      <td>0.071323</td>\n      <td>0.074845</td>\n      <td>0.110538</td>\n      <td>-0.144765</td>\n      <td>0.200355</td>\n      <td>0.017276</td>\n    </tr>\n    <tr>\n      <th>yr_built</th>\n      <td>0.021380</td>\n      <td>0.054012</td>\n      <td>0.154178</td>\n      <td>0.506019</td>\n      <td>0.318049</td>\n      <td>0.053080</td>\n      <td>0.489319</td>\n      <td>-0.026161</td>\n      <td>-0.053440</td>\n      <td>-0.361417</td>\n      <td>0.446963</td>\n      <td>0.423915</td>\n      <td>-0.133124</td>\n      <td>1.000000</td>\n      <td>-0.224874</td>\n      <td>-0.346869</td>\n      <td>-0.148122</td>\n      <td>0.409356</td>\n      <td>0.326229</td>\n      <td>0.070958</td>\n    </tr>\n    <tr>\n      <th>yr_renovated</th>\n      <td>-0.016907</td>\n      <td>0.126434</td>\n      <td>0.018841</td>\n      <td>0.050739</td>\n      <td>0.055363</td>\n      <td>0.007644</td>\n      <td>0.006338</td>\n      <td>0.092885</td>\n      <td>0.103917</td>\n      <td>-0.060618</td>\n      <td>0.014414</td>\n      <td>0.023283</td>\n      <td>0.071323</td>\n      <td>-0.224874</td>\n      <td>1.000000</td>\n      <td>0.064357</td>\n      <td>0.029398</td>\n      <td>-0.068372</td>\n      <td>-0.002673</td>\n      <td>0.007854</td>\n    </tr>\n    <tr>\n      <th>zipcode</th>\n      <td>-0.008224</td>\n      <td>-0.053203</td>\n      <td>-0.152668</td>\n      <td>-0.203866</td>\n      <td>-0.199430</td>\n      <td>-0.129574</td>\n      <td>-0.059121</td>\n      <td>0.030285</td>\n      <td>0.084827</td>\n      <td>0.003026</td>\n      <td>-0.184862</td>\n      <td>-0.261192</td>\n      <td>0.074845</td>\n      <td>-0.346869</td>\n      <td>0.064357</td>\n      <td>1.000000</td>\n      <td>0.267048</td>\n      <td>-0.564072</td>\n      <td>-0.279033</td>\n      <td>-0.147221</td>\n    </tr>\n    <tr>\n      <th>lat</th>\n      <td>-0.001891</td>\n      <td>0.307003</td>\n      <td>-0.008931</td>\n      <td>0.024573</td>\n      <td>0.052529</td>\n      <td>-0.085683</td>\n      <td>0.049614</td>\n      <td>-0.014274</td>\n      <td>0.006157</td>\n      <td>-0.014941</td>\n      <td>0.114084</td>\n      <td>-0.000810</td>\n      <td>0.110538</td>\n      <td>-0.148122</td>\n      <td>0.029398</td>\n      <td>0.267048</td>\n      <td>1.000000</td>\n      <td>-0.135512</td>\n      <td>0.048858</td>\n      <td>-0.086419</td>\n    </tr>\n    <tr>\n      <th>long</th>\n      <td>0.020799</td>\n      <td>0.021626</td>\n      <td>0.129473</td>\n      <td>0.223042</td>\n      <td>0.240223</td>\n      <td>0.229521</td>\n      <td>0.125419</td>\n      <td>-0.041910</td>\n      <td>-0.078400</td>\n      <td>-0.106500</td>\n      <td>0.198372</td>\n      <td>0.343800</td>\n      <td>-0.144765</td>\n      <td>0.409356</td>\n      <td>-0.068372</td>\n      <td>-0.564072</td>\n      <td>-0.135512</td>\n      <td>1.000000</td>\n      <td>0.334605</td>\n      <td>0.254451</td>\n    </tr>\n    <tr>\n      <th>sqft_living15</th>\n      <td>-0.002901</td>\n      <td>0.585379</td>\n      <td>0.391638</td>\n      <td>0.568634</td>\n      <td>0.756420</td>\n      <td>0.144608</td>\n      <td>0.279885</td>\n      <td>0.086463</td>\n      <td>0.280439</td>\n      <td>-0.092824</td>\n      <td>0.713202</td>\n      <td>0.731871</td>\n      <td>0.200355</td>\n      <td>0.326229</td>\n      <td>-0.002673</td>\n      <td>-0.279033</td>\n      <td>0.048858</td>\n      <td>0.334605</td>\n      <td>1.000000</td>\n      <td>0.183192</td>\n    </tr>\n    <tr>\n      <th>sqft_lot15</th>\n      <td>-0.138798</td>\n      <td>0.082447</td>\n      <td>0.029244</td>\n      <td>0.087175</td>\n      <td>0.183286</td>\n      <td>0.718557</td>\n      <td>-0.011269</td>\n      <td>0.030703</td>\n      <td>0.072575</td>\n      <td>-0.003406</td>\n      <td>0.119248</td>\n      <td>0.194048</td>\n      <td>0.017276</td>\n      <td>0.070958</td>\n      <td>0.007854</td>\n      <td>-0.147221</td>\n      <td>-0.086419</td>\n      <td>0.254451</td>\n      <td>0.183192</td>\n      <td>1.000000</td>\n    </tr>\n  </tbody>\n</table>\n</div>",
      "text/plain": "                     id     price  bedrooms  bathrooms  sqft_living  sqft_lot  \\\nid             1.000000 -0.016762  0.001286   0.005160    -0.012258 -0.132109   \nprice         -0.016762  1.000000  0.308350   0.525138     0.702035  0.089661   \nbedrooms       0.001286  0.308350  1.000000   0.515884     0.576671  0.031703   \nbathrooms      0.005160  0.525138  0.515884   1.000000     0.754665  0.087740   \nsqft_living   -0.012258  0.702035  0.576671   0.754665     1.000000  0.172826   \nsqft_lot      -0.132109  0.089661  0.031703   0.087740     0.172826  1.000000   \nfloors         0.018525  0.256794  0.175429   0.500653     0.353949 -0.005201   \nwaterfront    -0.002721  0.266369 -0.006582   0.063744     0.103818  0.021604   \nview           0.011592  0.397293  0.079532   0.187737     0.284611  0.074710   \ncondition     -0.023783  0.036362  0.028472  -0.124982    -0.058753 -0.008958   \ngrade          0.008130  0.667434  0.356967   0.664983     0.762704  0.113621   \nsqft_above    -0.010830  0.605567  0.477616   0.685363     0.876644  0.183511   \nsqft_basement -0.005151  0.323816  0.303093   0.283770     0.435043  0.015286   \nyr_built       0.021380  0.054012  0.154178   0.506019     0.318049  0.053080   \nyr_renovated  -0.016907  0.126434  0.018841   0.050739     0.055363  0.007644   \nzipcode       -0.008224 -0.053203 -0.152668  -0.203866    -0.199430 -0.129574   \nlat           -0.001891  0.307003 -0.008931   0.024573     0.052529 -0.085683   \nlong           0.020799  0.021626  0.129473   0.223042     0.240223  0.229521   \nsqft_living15 -0.002901  0.585379  0.391638   0.568634     0.756420  0.144608   \nsqft_lot15    -0.138798  0.082447  0.029244   0.087175     0.183286  0.718557   \n\n                 floors  waterfront      view  condition     grade  \\\nid             0.018525   -0.002721  0.011592  -0.023783  0.008130   \nprice          0.256794    0.266369  0.397293   0.036362  0.667434   \nbedrooms       0.175429   -0.006582  0.079532   0.028472  0.356967   \nbathrooms      0.500653    0.063744  0.187737  -0.124982  0.664983   \nsqft_living    0.353949    0.103818  0.284611  -0.058753  0.762704   \nsqft_lot      -0.005201    0.021604  0.074710  -0.008958  0.113621   \nfloors         1.000000    0.023698  0.029444  -0.263768  0.458183   \nwaterfront     0.023698    1.000000  0.401857   0.016653  0.082775   \nview           0.029444    0.401857  1.000000   0.045990  0.251321   \ncondition     -0.263768    0.016653  0.045990   1.000000 -0.144674   \ngrade          0.458183    0.082775  0.251321  -0.144674  1.000000   \nsqft_above     0.523899    0.072074  0.167648  -0.158206  0.755924   \nsqft_basement -0.245705    0.080588  0.276947   0.174105  0.168392   \nyr_built       0.489319   -0.026161 -0.053440  -0.361417  0.446963   \nyr_renovated   0.006338    0.092885  0.103917  -0.060618  0.014414   \nzipcode       -0.059121    0.030285  0.084827   0.003026 -0.184862   \nlat            0.049614   -0.014274  0.006157  -0.014941  0.114084   \nlong           0.125419   -0.041910 -0.078400  -0.106500  0.198372   \nsqft_living15  0.279885    0.086463  0.280439  -0.092824  0.713202   \nsqft_lot15    -0.011269    0.030703  0.072575  -0.003406  0.119248   \n\n               sqft_above  sqft_basement  yr_built  yr_renovated   zipcode  \\\nid              -0.010830      -0.005151  0.021380     -0.016907 -0.008224   \nprice            0.605567       0.323816  0.054012      0.126434 -0.053203   \nbedrooms         0.477616       0.303093  0.154178      0.018841 -0.152668   \nbathrooms        0.685363       0.283770  0.506019      0.050739 -0.203866   \nsqft_living      0.876644       0.435043  0.318049      0.055363 -0.199430   \nsqft_lot         0.183511       0.015286  0.053080      0.007644 -0.129574   \nfloors           0.523899      -0.245705  0.489319      0.006338 -0.059121   \nwaterfront       0.072074       0.080588 -0.026161      0.092885  0.030285   \nview             0.167648       0.276947 -0.053440      0.103917  0.084827   \ncondition       -0.158206       0.174105 -0.361417     -0.060618  0.003026   \ngrade            0.755924       0.168392  0.446963      0.014414 -0.184862   \nsqft_above       1.000000      -0.051976  0.423915      0.023283 -0.261192   \nsqft_basement   -0.051976       1.000000 -0.133124      0.071323  0.074845   \nyr_built         0.423915      -0.133124  1.000000     -0.224874 -0.346869   \nyr_renovated     0.023283       0.071323 -0.224874      1.000000  0.064357   \nzipcode         -0.261192       0.074845 -0.346869      0.064357  1.000000   \nlat             -0.000810       0.110538 -0.148122      0.029398  0.267048   \nlong             0.343800      -0.144765  0.409356     -0.068372 -0.564072   \nsqft_living15    0.731871       0.200355  0.326229     -0.002673 -0.279033   \nsqft_lot15       0.194048       0.017276  0.070958      0.007854 -0.147221   \n\n                    lat      long  sqft_living15  sqft_lot15  \nid            -0.001891  0.020799      -0.002901   -0.138798  \nprice          0.307003  0.021626       0.585379    0.082447  \nbedrooms      -0.008931  0.129473       0.391638    0.029244  \nbathrooms      0.024573  0.223042       0.568634    0.087175  \nsqft_living    0.052529  0.240223       0.756420    0.183286  \nsqft_lot      -0.085683  0.229521       0.144608    0.718557  \nfloors         0.049614  0.125419       0.279885   -0.011269  \nwaterfront    -0.014274 -0.041910       0.086463    0.030703  \nview           0.006157 -0.078400       0.280439    0.072575  \ncondition     -0.014941 -0.106500      -0.092824   -0.003406  \ngrade          0.114084  0.198372       0.713202    0.119248  \nsqft_above    -0.000810  0.343800       0.731871    0.194048  \nsqft_basement  0.110538 -0.144765       0.200355    0.017276  \nyr_built      -0.148122  0.409356       0.326229    0.070958  \nyr_renovated   0.029398 -0.068372      -0.002673    0.007854  \nzipcode        0.267048 -0.564072      -0.279033   -0.147221  \nlat            1.000000 -0.135512       0.048858   -0.086419  \nlong          -0.135512  1.000000       0.334605    0.254451  \nsqft_living15  0.048858  0.334605       1.000000    0.183192  \nsqft_lot15    -0.086419  0.254451       0.183192    1.000000  "
     },
     "execution_count": 266,
     "metadata": {},
     "output_type": "execute_result"
    }
   ],
   "source": [
    "df.corr()"
   ]
  },
  {
   "cell_type": "code",
   "execution_count": 267,
   "metadata": {},
   "outputs": [
    {
     "data": {
      "text/plain": "MLPRegressor(activation='relu', alpha=0.0001, batch_size='auto', beta_1=0.9,\n       beta_2=0.999, early_stopping=False, epsilon=1e-08,\n       hidden_layer_sizes=(175,), learning_rate='adaptive',\n       learning_rate_init=0.001, max_iter=100, momentum=0.9,\n       nesterovs_momentum=True, power_t=0.5, random_state=None,\n       shuffle=True, solver='lbfgs', tol=0.0001, validation_fraction=0.1,\n       verbose=True, warm_start=False)"
     },
     "execution_count": 267,
     "metadata": {},
     "output_type": "execute_result"
    }
   ],
   "source": [
    "reg.fit(X_train,y_train)"
   ]
  },
  {
   "cell_type": "code",
   "execution_count": 268,
   "metadata": {},
   "outputs": [
    {
     "name": "stdout",
     "output_type": "stream",
     "text": "73.57346324527431\n"
    }
   ],
   "source": [
    "print(reg.score(X_test,y_test)*100)\n"
   ]
  },
  {
   "cell_type": "code",
   "execution_count": null,
   "metadata": {},
   "outputs": [],
   "source": []
  }
 ]
}